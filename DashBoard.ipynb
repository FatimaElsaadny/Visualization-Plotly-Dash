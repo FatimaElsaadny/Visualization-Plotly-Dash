{
  "cells": [
    {
      "cell_type": "markdown",
      "metadata": {
        "id": "view-in-github",
        "colab_type": "text"
      },
      "source": [
        "<a href=\"https://colab.research.google.com/github/FatimaElsaadny/Visualization-Plotly-Dash/blob/main/DashBoard.ipynb\" target=\"_parent\"><img src=\"https://colab.research.google.com/assets/colab-badge.svg\" alt=\"Open In Colab\"/></a>"
      ]
    },
    {
      "cell_type": "code",
      "execution_count": 453,
      "metadata": {
        "colab": {
          "base_uri": "https://localhost:8080/"
        },
        "id": "XljleBW7djkA",
        "outputId": "388f76b1-05e4-4509-d43e-33beb2941a1f"
      },
      "outputs": [
        {
          "output_type": "stream",
          "name": "stdout",
          "text": [
            "Looking in indexes: https://pypi.org/simple, https://us-python.pkg.dev/colab-wheels/public/simple/\n",
            "Requirement already satisfied: dash in /usr/local/lib/python3.7/dist-packages (2.4.1)\n",
            "Requirement already satisfied: flask-compress in /usr/local/lib/python3.7/dist-packages (from dash) (1.12)\n",
            "Requirement already satisfied: plotly>=5.0.0 in /usr/local/lib/python3.7/dist-packages (from dash) (5.5.0)\n",
            "Requirement already satisfied: dash-html-components==2.0.0 in /usr/local/lib/python3.7/dist-packages (from dash) (2.0.0)\n",
            "Requirement already satisfied: dash-core-components==2.0.0 in /usr/local/lib/python3.7/dist-packages (from dash) (2.0.0)\n",
            "Requirement already satisfied: Flask>=1.0.4 in /usr/local/lib/python3.7/dist-packages (from dash) (1.1.4)\n",
            "Requirement already satisfied: dash-table==5.0.0 in /usr/local/lib/python3.7/dist-packages (from dash) (5.0.0)\n",
            "Requirement already satisfied: Jinja2<3.0,>=2.10.1 in /usr/local/lib/python3.7/dist-packages (from Flask>=1.0.4->dash) (2.11.3)\n",
            "Requirement already satisfied: Werkzeug<2.0,>=0.15 in /usr/local/lib/python3.7/dist-packages (from Flask>=1.0.4->dash) (1.0.1)\n",
            "Requirement already satisfied: click<8.0,>=5.1 in /usr/local/lib/python3.7/dist-packages (from Flask>=1.0.4->dash) (7.1.2)\n",
            "Requirement already satisfied: itsdangerous<2.0,>=0.24 in /usr/local/lib/python3.7/dist-packages (from Flask>=1.0.4->dash) (1.1.0)\n",
            "Requirement already satisfied: MarkupSafe>=0.23 in /usr/local/lib/python3.7/dist-packages (from Jinja2<3.0,>=2.10.1->Flask>=1.0.4->dash) (2.0.1)\n",
            "Requirement already satisfied: six in /usr/local/lib/python3.7/dist-packages (from plotly>=5.0.0->dash) (1.15.0)\n",
            "Requirement already satisfied: tenacity>=6.2.0 in /usr/local/lib/python3.7/dist-packages (from plotly>=5.0.0->dash) (8.0.1)\n",
            "Requirement already satisfied: brotli in /usr/local/lib/python3.7/dist-packages (from flask-compress->dash) (1.0.9)\n"
          ]
        }
      ],
      "source": [
        "pip install dash"
      ]
    },
    {
      "cell_type": "code",
      "execution_count": 454,
      "metadata": {
        "colab": {
          "base_uri": "https://localhost:8080/"
        },
        "id": "__Y-XZFTds8o",
        "outputId": "df91512a-ae9e-4ad6-ea3b-7b2f603037d4"
      },
      "outputs": [
        {
          "output_type": "stream",
          "name": "stdout",
          "text": [
            "Looking in indexes: https://pypi.org/simple, https://us-python.pkg.dev/colab-wheels/public/simple/\n",
            "Requirement already satisfied: dash-bootstrap-components in /usr/local/lib/python3.7/dist-packages (1.1.0)\n",
            "Requirement already satisfied: dash>=2.0.0 in /usr/local/lib/python3.7/dist-packages (from dash-bootstrap-components) (2.4.1)\n",
            "Requirement already satisfied: Flask>=1.0.4 in /usr/local/lib/python3.7/dist-packages (from dash>=2.0.0->dash-bootstrap-components) (1.1.4)\n",
            "Requirement already satisfied: plotly>=5.0.0 in /usr/local/lib/python3.7/dist-packages (from dash>=2.0.0->dash-bootstrap-components) (5.5.0)\n",
            "Requirement already satisfied: dash-table==5.0.0 in /usr/local/lib/python3.7/dist-packages (from dash>=2.0.0->dash-bootstrap-components) (5.0.0)\n",
            "Requirement already satisfied: flask-compress in /usr/local/lib/python3.7/dist-packages (from dash>=2.0.0->dash-bootstrap-components) (1.12)\n",
            "Requirement already satisfied: dash-html-components==2.0.0 in /usr/local/lib/python3.7/dist-packages (from dash>=2.0.0->dash-bootstrap-components) (2.0.0)\n",
            "Requirement already satisfied: dash-core-components==2.0.0 in /usr/local/lib/python3.7/dist-packages (from dash>=2.0.0->dash-bootstrap-components) (2.0.0)\n",
            "Requirement already satisfied: Werkzeug<2.0,>=0.15 in /usr/local/lib/python3.7/dist-packages (from Flask>=1.0.4->dash>=2.0.0->dash-bootstrap-components) (1.0.1)\n",
            "Requirement already satisfied: itsdangerous<2.0,>=0.24 in /usr/local/lib/python3.7/dist-packages (from Flask>=1.0.4->dash>=2.0.0->dash-bootstrap-components) (1.1.0)\n",
            "Requirement already satisfied: Jinja2<3.0,>=2.10.1 in /usr/local/lib/python3.7/dist-packages (from Flask>=1.0.4->dash>=2.0.0->dash-bootstrap-components) (2.11.3)\n",
            "Requirement already satisfied: click<8.0,>=5.1 in /usr/local/lib/python3.7/dist-packages (from Flask>=1.0.4->dash>=2.0.0->dash-bootstrap-components) (7.1.2)\n",
            "Requirement already satisfied: MarkupSafe>=0.23 in /usr/local/lib/python3.7/dist-packages (from Jinja2<3.0,>=2.10.1->Flask>=1.0.4->dash>=2.0.0->dash-bootstrap-components) (2.0.1)\n",
            "Requirement already satisfied: six in /usr/local/lib/python3.7/dist-packages (from plotly>=5.0.0->dash>=2.0.0->dash-bootstrap-components) (1.15.0)\n",
            "Requirement already satisfied: tenacity>=6.2.0 in /usr/local/lib/python3.7/dist-packages (from plotly>=5.0.0->dash>=2.0.0->dash-bootstrap-components) (8.0.1)\n",
            "Requirement already satisfied: brotli in /usr/local/lib/python3.7/dist-packages (from flask-compress->dash>=2.0.0->dash-bootstrap-components) (1.0.9)\n"
          ]
        }
      ],
      "source": [
        "pip install dash-bootstrap-components"
      ]
    },
    {
      "cell_type": "code",
      "execution_count": 455,
      "metadata": {
        "colab": {
          "base_uri": "https://localhost:8080/"
        },
        "id": "h7pG8RrZd5NW",
        "outputId": "6e4b11ba-7f65-416f-8c5d-5c462c5e301f"
      },
      "outputs": [
        {
          "output_type": "stream",
          "name": "stdout",
          "text": [
            "Looking in indexes: https://pypi.org/simple, https://us-python.pkg.dev/colab-wheels/public/simple/\n",
            "Requirement already satisfied: jupyter-dash in /usr/local/lib/python3.7/dist-packages (0.4.2)\n",
            "Requirement already satisfied: retrying in /usr/local/lib/python3.7/dist-packages (from jupyter-dash) (1.3.3)\n",
            "Requirement already satisfied: ansi2html in /usr/local/lib/python3.7/dist-packages (from jupyter-dash) (1.7.0)\n",
            "Requirement already satisfied: nest-asyncio in /usr/local/lib/python3.7/dist-packages (from jupyter-dash) (1.5.5)\n",
            "Requirement already satisfied: ipykernel in /usr/local/lib/python3.7/dist-packages (from jupyter-dash) (4.10.1)\n",
            "Requirement already satisfied: flask in /usr/local/lib/python3.7/dist-packages (from jupyter-dash) (1.1.4)\n",
            "Requirement already satisfied: ipython in /usr/local/lib/python3.7/dist-packages (from jupyter-dash) (5.5.0)\n",
            "Requirement already satisfied: dash in /usr/local/lib/python3.7/dist-packages (from jupyter-dash) (2.4.1)\n",
            "Requirement already satisfied: requests in /usr/local/lib/python3.7/dist-packages (from jupyter-dash) (2.23.0)\n",
            "Requirement already satisfied: importlib-metadata in /usr/local/lib/python3.7/dist-packages (from ansi2html->jupyter-dash) (4.11.4)\n",
            "Requirement already satisfied: plotly>=5.0.0 in /usr/local/lib/python3.7/dist-packages (from dash->jupyter-dash) (5.5.0)\n",
            "Requirement already satisfied: flask-compress in /usr/local/lib/python3.7/dist-packages (from dash->jupyter-dash) (1.12)\n",
            "Requirement already satisfied: dash-core-components==2.0.0 in /usr/local/lib/python3.7/dist-packages (from dash->jupyter-dash) (2.0.0)\n",
            "Requirement already satisfied: dash-html-components==2.0.0 in /usr/local/lib/python3.7/dist-packages (from dash->jupyter-dash) (2.0.0)\n",
            "Requirement already satisfied: dash-table==5.0.0 in /usr/local/lib/python3.7/dist-packages (from dash->jupyter-dash) (5.0.0)\n",
            "Requirement already satisfied: Jinja2<3.0,>=2.10.1 in /usr/local/lib/python3.7/dist-packages (from flask->jupyter-dash) (2.11.3)\n",
            "Requirement already satisfied: Werkzeug<2.0,>=0.15 in /usr/local/lib/python3.7/dist-packages (from flask->jupyter-dash) (1.0.1)\n",
            "Requirement already satisfied: itsdangerous<2.0,>=0.24 in /usr/local/lib/python3.7/dist-packages (from flask->jupyter-dash) (1.1.0)\n",
            "Requirement already satisfied: click<8.0,>=5.1 in /usr/local/lib/python3.7/dist-packages (from flask->jupyter-dash) (7.1.2)\n",
            "Requirement already satisfied: MarkupSafe>=0.23 in /usr/local/lib/python3.7/dist-packages (from Jinja2<3.0,>=2.10.1->flask->jupyter-dash) (2.0.1)\n",
            "Requirement already satisfied: six in /usr/local/lib/python3.7/dist-packages (from plotly>=5.0.0->dash->jupyter-dash) (1.15.0)\n",
            "Requirement already satisfied: tenacity>=6.2.0 in /usr/local/lib/python3.7/dist-packages (from plotly>=5.0.0->dash->jupyter-dash) (8.0.1)\n",
            "Requirement already satisfied: brotli in /usr/local/lib/python3.7/dist-packages (from flask-compress->dash->jupyter-dash) (1.0.9)\n",
            "Requirement already satisfied: zipp>=0.5 in /usr/local/lib/python3.7/dist-packages (from importlib-metadata->ansi2html->jupyter-dash) (3.8.0)\n",
            "Requirement already satisfied: typing-extensions>=3.6.4 in /usr/local/lib/python3.7/dist-packages (from importlib-metadata->ansi2html->jupyter-dash) (4.2.0)\n",
            "Requirement already satisfied: traitlets>=4.1.0 in /usr/local/lib/python3.7/dist-packages (from ipykernel->jupyter-dash) (5.1.1)\n",
            "Requirement already satisfied: tornado>=4.0 in /usr/local/lib/python3.7/dist-packages (from ipykernel->jupyter-dash) (5.1.1)\n",
            "Requirement already satisfied: jupyter-client in /usr/local/lib/python3.7/dist-packages (from ipykernel->jupyter-dash) (5.3.5)\n",
            "Requirement already satisfied: simplegeneric>0.8 in /usr/local/lib/python3.7/dist-packages (from ipython->jupyter-dash) (0.8.1)\n",
            "Requirement already satisfied: pickleshare in /usr/local/lib/python3.7/dist-packages (from ipython->jupyter-dash) (0.7.5)\n",
            "Requirement already satisfied: decorator in /usr/local/lib/python3.7/dist-packages (from ipython->jupyter-dash) (4.4.2)\n",
            "Requirement already satisfied: pexpect in /usr/local/lib/python3.7/dist-packages (from ipython->jupyter-dash) (4.8.0)\n",
            "Requirement already satisfied: prompt-toolkit<2.0.0,>=1.0.4 in /usr/local/lib/python3.7/dist-packages (from ipython->jupyter-dash) (1.0.18)\n",
            "Requirement already satisfied: setuptools>=18.5 in /usr/local/lib/python3.7/dist-packages (from ipython->jupyter-dash) (57.4.0)\n",
            "Requirement already satisfied: pygments in /usr/local/lib/python3.7/dist-packages (from ipython->jupyter-dash) (2.6.1)\n",
            "Requirement already satisfied: wcwidth in /usr/local/lib/python3.7/dist-packages (from prompt-toolkit<2.0.0,>=1.0.4->ipython->jupyter-dash) (0.2.5)\n",
            "Requirement already satisfied: pyzmq>=13 in /usr/local/lib/python3.7/dist-packages (from jupyter-client->ipykernel->jupyter-dash) (23.0.0)\n",
            "Requirement already satisfied: python-dateutil>=2.1 in /usr/local/lib/python3.7/dist-packages (from jupyter-client->ipykernel->jupyter-dash) (2.8.2)\n",
            "Requirement already satisfied: jupyter-core>=4.6.0 in /usr/local/lib/python3.7/dist-packages (from jupyter-client->ipykernel->jupyter-dash) (4.10.0)\n",
            "Requirement already satisfied: ptyprocess>=0.5 in /usr/local/lib/python3.7/dist-packages (from pexpect->ipython->jupyter-dash) (0.7.0)\n",
            "Requirement already satisfied: urllib3!=1.25.0,!=1.25.1,<1.26,>=1.21.1 in /usr/local/lib/python3.7/dist-packages (from requests->jupyter-dash) (1.24.3)\n",
            "Requirement already satisfied: idna<3,>=2.5 in /usr/local/lib/python3.7/dist-packages (from requests->jupyter-dash) (2.10)\n",
            "Requirement already satisfied: certifi>=2017.4.17 in /usr/local/lib/python3.7/dist-packages (from requests->jupyter-dash) (2022.5.18.1)\n",
            "Requirement already satisfied: chardet<4,>=3.0.2 in /usr/local/lib/python3.7/dist-packages (from requests->jupyter-dash) (3.0.4)\n"
          ]
        }
      ],
      "source": [
        "pip install jupyter-dash"
      ]
    },
    {
      "cell_type": "code",
      "execution_count": 456,
      "metadata": {
        "id": "MqyQVaEtZ7g9"
      },
      "outputs": [],
      "source": [
        "from gc import callbacks\n",
        "from pickle import TRUE\n",
        "from turtle import width\n",
        "import dash\n",
        "import dash_html_components as html\n",
        "import dash_core_components as dcc\n",
        "import dash_bootstrap_components as dbc\n",
        "from dash.dependencies import Input, Output, State\n",
        "from jupyter_dash import JupyterDash\n",
        "import jupyter_dash\n",
        "\n",
        "\n",
        "import pandas as pd\n",
        "# import numpy as np\n",
        "# from sklearn.preprocessing import LabelEncoder\n",
        "\n",
        "# import matplotlib.pyplot as plt\n",
        "import plotly.express as px\n",
        "import plotly.graph_objs as go\n",
        "import plotly.graph_objects as go\n",
        "\n"
      ]
    },
    {
      "cell_type": "markdown",
      "metadata": {
        "id": "bQc7b1lVFMm6"
      },
      "source": [
        "# Constants"
      ]
    },
    {
      "cell_type": "code",
      "execution_count": 457,
      "metadata": {
        "id": "6ygjsxZOZ-7Q"
      },
      "outputs": [],
      "source": [
        "# #################################################################################\n",
        "#   ############################# Constants #################################\n",
        "\n",
        "PLOTLY_LOGO = \"https://images.plot.ly/logo/new-branding/plotly-logomark.png\"\n",
        "LOGO = 'https://australianheartresearch.org.au/wp-content/uploads/2021/12/banner-2-840x590-jpg.webp'\n",
        "SIDE_IMG = 'https://www.thestatesman.com/wp-content/uploads/2017/08/1486067238-heart-disease-517-getty.jpg'\n",
        "DATASET = \"https://www.kaggle.com/datasets/kamilpytlak/personal-key-indicators-of-heart-disease\"\n",
        "FILE_PATH = '/content/drive/MyDrive/Colab Notebooks/Datasets/heart_2020_cleaned.csv'\n"
      ]
    },
    {
      "cell_type": "markdown",
      "metadata": {
        "id": "efbw7qanFPsC"
      },
      "source": [
        "# Explore Data"
      ]
    },
    {
      "cell_type": "code",
      "execution_count": 458,
      "metadata": {
        "id": "AvjQDLBOaFVo"
      },
      "outputs": [],
      "source": [
        "# #################################################################################\n",
        "#   ############################# Read Data #################################\n",
        "data = pd.read_csv(FILE_PATH)\n",
        "\n"
      ]
    },
    {
      "cell_type": "code",
      "execution_count": 459,
      "metadata": {
        "id": "GR_pBeb8FS6C"
      },
      "outputs": [],
      "source": [
        "df_head = data.sample(frac= 0.60)\n",
        "hasHeart = df_head[df_head.HeartDisease == 'Yes']\n",
        "hasNoHeart = df_head[df_head.HeartDisease == 'No']"
      ]
    },
    {
      "cell_type": "code",
      "execution_count": 460,
      "metadata": {
        "id": "qpHtzRcUl0gj"
      },
      "outputs": [],
      "source": [
        "\n",
        "allRows = data.shape[0]\n",
        "HDcount = (data['HeartDisease'] == 'Yes').sum()\n",
        "HDdata = data[data['HeartDisease'] == 'Yes']"
      ]
    },
    {
      "cell_type": "markdown",
      "metadata": {
        "id": "QqK5N-aaEPwK"
      },
      "source": [
        "## Graphs& functions\n"
      ]
    },
    {
      "cell_type": "code",
      "execution_count": 461,
      "metadata": {
        "id": "7VvEEgGeETO1"
      },
      "outputs": [],
      "source": [
        "def perOf_other_Diseases_withHD(diseaseName):\n",
        "  hasHeart = df_head[df_head.HeartDisease == 'Yes']\n",
        "  fig = px.pie(hasHeart, names= diseaseName, title= \"Percenage of stroke in People Have \"+ diseaseName,  hole= 0.7, template= 'simple_white')\n",
        "  return fig\n",
        "\n",
        "\n",
        "# *********************************************\n",
        "\n",
        "def panValues(colName):\n",
        "  value  = (HDdata[colName] == 'Yes').sum()\n",
        "  return int((value/HDcount)*100)\n",
        "\n",
        "# *********************************************\n",
        "\n",
        "def male_female_hasHD():\n",
        "    hasHeart_sex = data.groupby(['Sex']).count()\n",
        "    hasNoHeart_sex = data.groupby(['Sex']).count()\n",
        "\n",
        "    fig = go.Figure(data=[\n",
        "        go.Bar(name='Has HeartDisease', x=hasHeart_sex.index,\n",
        "               y=hasHeart_sex.HeartDisease, width=0.3, marker_color='lightslategray'),\n",
        "        go.Bar(name='Has NO HeartDisease', x=hasNoHeart_sex.index,\n",
        "               y=hasNoHeart_sex.HeartDisease, width=0.35, marker_color='crimson')\n",
        "    ])\n",
        "    # Change the bar mode\n",
        "    fig.update_layout(barmode='group')\n",
        "\n",
        "    return fig\n",
        "\n",
        "\n",
        "# *********************************************\n",
        "\n",
        "def groupBar1(colName):\n",
        "    hasHeart_AlcoholDrinking = hasHeart.groupby(colName).count()\n",
        "    hasNoHeart_AlcoholDrinking = hasNoHeart.groupby(colName).count()\n",
        "\n",
        "    fig = go.Figure(data=[\n",
        "    go.Bar(name='Has HeartDisease', x=hasHeart_AlcoholDrinking.index, y=hasHeart_AlcoholDrinking.HeartDisease, width= 0.6, marker_color= 'red'),\n",
        "    go.Bar(name='Has NO HeartDisease', x=hasNoHeart_AlcoholDrinking.index, y=hasNoHeart_AlcoholDrinking.HeartDisease, width= 0.55, marker_color= 'green')\n",
        "      ])\n",
        "# Change the bar mode\n",
        "    fig.update_layout(barmode='group')\n",
        "    return fig\n",
        "\n",
        "# *********************************************\n",
        "\n",
        "def barGroup2(colName):\n",
        "\n",
        "  hasHeart_BMI = hasHeart.groupby(colName).count()\n",
        "  hasNoHeart_BMI = hasNoHeart.groupby(colName).count()\n",
        "\n",
        "  fig = go.Figure(data=[\n",
        "  go.Bar(name='Has HeartDisease', x=hasHeart_BMI.index, y=hasHeart_BMI.HeartDisease, width= 0.5, marker_color= 'red'),\n",
        "  go.Bar(name='Has NO HeartDisease', x=hasNoHeart_BMI.index, y=hasNoHeart_BMI.HeartDisease, width= 0.5, marker_color= 'green')\n",
        "    ])\n",
        "\n",
        "  fig.update_layout(barmode='group')\n",
        "  \n",
        "  return fig\n",
        "\n",
        "\n",
        "def ageCategory():\n",
        "  sorted = df_head.sort_values('AgeCategory')\n",
        "  return px.bar(sorted, x= 'AgeCategory', y= 'HeartDisease',   color=\"Sex\", title=\"Percentage of HD in each Sex/AgeCategory\", barmode=\"group\")\n",
        "\n",
        "\n",
        "def lineGraph(ColName):\n",
        "  x = hasHeart.groupby(ColName).count()\n",
        "  y = hasNoHeart.groupby(ColName).count()\n",
        "  z =df_head.groupby(ColName).count()\n",
        "  xz= x*100/z\n",
        "  yz= y*100/z\n",
        "  xz =xz.fillna(0)\n",
        "  fig_sleepTime = go.Figure()\n",
        "  fig_sleepTime.add_trace(go.Line(name='Has HeartDisease', x=x.index, y=xz.HeartDisease))  #, marker_color= 'lightslategray'\n",
        "  fig_sleepTime.add_trace(go.Line(name='Has NO HeartDisease', x=x.index, y=yz.HeartDisease))\n",
        "\n",
        "  return fig_sleepTime\n",
        "\n",
        "\n",
        "def perpeoplehasvshasnot():\n",
        "  fig = px.pie(\n",
        "    data_frame= df_head,\n",
        "    names= 'HeartDisease',\n",
        "    title= 'percentage of people Have HD VS Hav\\'t Ds',\n",
        "    template= 'simple_white' ,           #plotly'#'seaborn' #'presentation'\n",
        "    hole= 0.5)\n",
        "  \n",
        "  return fig"
      ]
    },
    {
      "cell_type": "markdown",
      "source": [
        "# Nav Bar"
      ],
      "metadata": {
        "id": "i9cZhJoGYnuu"
      }
    },
    {
      "cell_type": "code",
      "execution_count": 462,
      "metadata": {
        "id": "EZ6ZQ78_aPtG"
      },
      "outputs": [],
      "source": [
        "\n",
        "\n",
        "# #########################################################################\n",
        "# Nav BAr\n",
        "\n",
        "search_bar = dbc.Row(\n",
        "    [\n",
        "        dbc.Col(dbc.Input(type=\"search\", placeholder=\"Search\")),\n",
        "        dbc.Col(\n",
        "            dbc.Button(\n",
        "                \"Search\", color=\"primary\", className=\"ms-2\", n_clicks=0\n",
        "            ),\n",
        "            width=\"auto\",\n",
        "        ),\n",
        "    ],\n",
        "    className=\"g-0 ms-auto flex-nowrap mt-3 mt-md-0\",\n",
        "    align=\"center\",\n",
        "    \n",
        ")\n",
        "\n",
        "navbar = dbc.Navbar(\n",
        "    dbc.Container(\n",
        "        [\n",
        "            html.A(\n",
        "                # Use row and col to control vertical alignment of logo / brand\n",
        "                dbc.Row(\n",
        "                    [\n",
        "                        dbc.Col(html.Img(src=LOGO, height=\"30px\"), className= 'ml-1'),\n",
        "                        dbc.Col(dbc.NavbarBrand(\n",
        "                            \"   Personal Key Indicators of Heart Disease\", className=\"text-center\")),\n",
        "                    ],\n",
        "                    align=\"center\",\n",
        "\n",
        "                    className=\"g-0\",\n",
        "\n",
        "\n",
        "                ),\n",
        "                href=DATASET,\n",
        "                style={\"textDecoration\": \"none\"},\n",
        "\n",
        "\n",
        "            ),\n",
        "            dbc.NavbarToggler(id=\"navbar-toggler\", n_clicks=0,\n",
        "                              class_name='g-0 ms-auto flex-nowrap mt-3 mt-md-0'),\n",
        "            dbc.Collapse(\n",
        "                search_bar,\n",
        "                id=\"navbar-collapse\",\n",
        "                is_open=False,\n",
        "                navbar=True,\n",
        "            ),\n",
        "        ], className= 'fixed-top align-baseline float-left my-3'\n",
        "\n",
        "    ),\n",
        "    color=\"dark\",\n",
        "    dark=True,\n",
        "    sticky=\"top\",\n",
        "    style={'width': 'calc(100% )',  'height': '4.5rem'},\n",
        "    \n",
        "\n",
        "\n",
        ")\n",
        "\n",
        "# NavBar End"
      ]
    },
    {
      "cell_type": "markdown",
      "metadata": {
        "id": "dtalfdib2J0c"
      },
      "source": [
        "\n",
        "\n",
        "```\n",
        "\n",
        "```\n",
        "\n",
        "## Generate Cards for BAN"
      ]
    },
    {
      "cell_type": "code",
      "execution_count": 463,
      "metadata": {
        "id": "J3jNTIsQ0WpC"
      },
      "outputs": [],
      "source": [
        "def makeCard(mtitle, msubtitle):\n",
        "   return[\n",
        "    # dbc.CardHeader(\"Card header\"),\n",
        "    dbc.CardBody(\n",
        "        [\n",
        "            html.H5(str(mtitle)+' %', className=\"card-title text-center font-weight-bold display-4 dl-horizontal\"),\n",
        "            html.P(msubtitle, className=\"card-subtitle text-center\", ),\n",
        "        ],# className='card-deck mx-2 shadow-lg'\n",
        "    ),\n",
        "]"
      ]
    },
    {
      "cell_type": "code",
      "execution_count": 464,
      "metadata": {
        "id": "UVbkFlx8aH9k"
      },
      "outputs": [],
      "source": [
        "\n",
        "# #########################################################################\n",
        "app = jupyter_dash.JupyterDash(external_stylesheets=[dbc.themes.JOURNAL],  meta_tags=[{'name': 'viewport', 'content': 'width=device-width, initial-scale=1.0'}])\n",
        "server = app.server\n",
        "\n",
        "# app = dash.Dash(__name__, external_stylesheets=[dbc.themes.BOOTSTRAP],\n",
        "#                 meta_tags=[{'name': 'viewport', 'content': 'width=device-width, initial-scale=1.0'}]\n",
        "#                 )"
      ]
    },
    {
      "cell_type": "code",
      "execution_count": 465,
      "metadata": {
        "id": "AEz4l7neIYos"
      },
      "outputs": [],
      "source": [
        "BAN_section = [\n",
        "      \n",
        "                dbc.Col(dbc.Card(makeCard(panValues('Smoking'), 'Smoking'), color=\"primary\", inverse=True, style={\"width\": \"14rem\"})),\n",
        "                dbc.Col( dbc.Card(makeCard(panValues('AlcoholDrinking'), 'AlcoholDrinking'), color=\"warning\", inverse=True, style={\"width\": \"14rem\"})),\n",
        "                dbc.Col(dbc.Card(makeCard(panValues('Stroke'), 'Stroke'), color=\"info\", inverse=True, style={\"width\": \"14rem\"})),\n",
        "                dbc.Col(dbc.Card(makeCard(panValues('DiffWalking'), 'DiffWalking'), color=\"warning\", inverse=True, style={\"width\": \"14rem\"})),\n",
        "                dbc.Col(dbc.Card(makeCard(panValues('Diabetic'), 'Diabetic'), color=\"primary\", inverse=True, style={\"width\": \"14rem\"})),\n",
        "                dbc.Col(dbc.Card(makeCard(panValues('PhysicalActivity'), 'PhysicalActivity'), color=\"info\", inverse=True, style={\"width\": \"14rem\"})),\n",
        "           \n",
        "            ]"
      ]
    },
    {
      "cell_type": "code",
      "execution_count": 466,
      "metadata": {
        "id": "cB4elVL-ad0y"
      },
      "outputs": [],
      "source": [
        "# #################################################################################\n",
        "#   ############################# Content #################################\n",
        "\n",
        "\n",
        "DataAnalysis_PAGE = dbc.Container([\n",
        "\n",
        "     dbc.Row(\n",
        "          html.H1(\"Analysis of people who suffer from Heart Disease\",style={ 'fontSize': 30}, className=\"list-inline  text-justify shadow-sm text-xl-center text-danger\")\n",
        "     ),\n",
        "\n",
        "    dbc.Row( BAN_section, className=\"mb-4 my-4\",  align= 'center' ),  #my-4\n",
        "\n",
        "    dbc.Row(dbc.Col(html.Div(\"\"))),\n",
        "    html.Br(),\n",
        "\n",
        "#  #############################################################################################\n",
        "    dbc.Row([\n",
        "\n",
        "      dbc.Col([\n",
        "          html.P(\"What effect of some things on heart ? \",style={ 'fontSize': 18}, className=\"list-inline  text-justify shadow-sm\"),\n",
        "          dcc.Dropdown(['Smoking', 'SleepTime', 'AlcoholDrinking' , 'PhysicalHealth','MentalHealth','DiffWalking','PhysicalActivity'], 'SleepTime', id='demo_dropdown1'),\n",
        "          dcc.Graph(id=\"myGraph1\")],className=\"four columns\"),\n",
        "\n",
        "          dbc.Col([\n",
        "                 \n",
        "            html.P(\"call back example3\", style={ 'fontSize': 18}, className=\"list-inline text-justify shadow-sm\"),\n",
        "            dcc.Dropdown(['Sex', 'Race', 'BMI'], 'Race', id='demo_dropdown2', className=\"one columns\"),\n",
        "            dcc.Graph(id=\"myGraph2\")],className=\"three columns\") \n",
        "          \n",
        "      ], className=\" my-4\"),\n",
        "\n",
        "#  #############################################################################################\n",
        "    dbc.Row([\n",
        "        dbc.Col([\n",
        "            html.P(\"Have HD Vs Have not HD Activity\",style={ 'fontSize': 18}, className=\"list-inline  text-justify shadow-sm\"),\n",
        "            dcc.Dropdown(['PhysicalHealth', 'MentalHealth', 'SleepTime', 'BMI' ],'MentalHealth', id='line_graph_dropdown', className= \"dropright\"),\n",
        "            dcc.Graph(id='line_graph')], width = {'size':6}, className=\"six columns\"),\n",
        "    \n",
        "    \n",
        "\n",
        "\n",
        "        dbc.Col([\n",
        "            html.P(\"Heart disease with other diseases Relationship\" ,style={ 'fontSize': 18}, className=\"list-inline  text-justify shadow-sm\"),  # ,className=\"list-inline bg-light text-justify shadow-sm\"\n",
        "            dcc.Dropdown(['KidneyDisease', 'Diabetic', 'Stroke' , 'SkinCancer' , 'Asthma' ],'Stroke', id='demo_dropdown'),\n",
        "            dcc.Graph(id=\"myGraph\")\n",
        "           \n",
        "        ],  className=\"thow columns\"),\n",
        "\n",
        "      \n",
        "      \n",
        "    ]), #, className=\" my-4\"\n",
        "\n",
        "\n",
        "#  #############################################################################################\n",
        "    dbc.Row([\n",
        "         \n",
        "        ]),\n",
        "    ])\n",
        "\n",
        "\n"
      ]
    },
    {
      "cell_type": "markdown",
      "metadata": {
        "id": "oQJDG687roAA"
      },
      "source": [
        "# Call Backs"
      ]
    },
    {
      "cell_type": "code",
      "execution_count": 467,
      "metadata": {
        "id": "wguQ22_-amKX"
      },
      "outputs": [],
      "source": [
        "\n",
        "#   ############################# App #################################\n",
        "app.layout = html.Div(\n",
        "    [\n",
        "        navbar,\n",
        "        DataAnalysis_PAGE\n",
        "    ]\n",
        ")\n",
        "\n",
        "\n",
        "# #############################################################################\n",
        "#   ############################# Callbacks #################################\n",
        "\n",
        "#       ***************** NavBar Callback****************************\n",
        "\n",
        "@app.callback(\n",
        "    Output(\"navbar-collapse\", \"is_open\"),\n",
        "    [Input(\"navbar-toggler\", \"n_clicks\")],\n",
        "    [State(\"navbar-collapse\", \"is_open\")],\n",
        ")\n",
        "def toggle_navbar_collapse(n, is_open):\n",
        "    if n:\n",
        "        return not is_open\n",
        "    return is_open\n",
        "\n",
        "#       ***************** SideBar Callback****************************\n",
        "\n",
        "# @app.callback(Output(\"page-content\", \"children\"), [Input(\"url\", \"pathname\")])\n",
        "# def render_page_content(pathname):\n",
        "#     if pathname == \"/\":\n",
        "#         return html.P(\"This is the content of the home page!\")\n",
        "#     elif pathname == \"/DataAnalysis\":\n",
        "#         return DataAnalysis_PAGE\n",
        "#     elif pathname == \"/page-2\":\n",
        "#         return html.P(\"Oh cool, this is page 2!\")\n",
        "#     # elif pathname == \"/page-3\":\n",
        "#     #     return html.href(DATASET)\n",
        "#     # If the user tries to reach a different page, return a 404 message\n",
        "#     return dbc.Jumbotron(\n",
        "#         [\n",
        "#             html.H1(\"404: Not found\", className=\"text-danger\"),\n",
        "#             html.Hr(),\n",
        "#             html.P(f\"The pathname {pathname} was not recognised...\"),\n",
        "#         ]\n",
        "#     )\n",
        "\n",
        "#       ***************** DropDow Callbacks****************************\n",
        "\n",
        "@app.callback(\n",
        "    Output('line_graph',\"figure\"),\n",
        "    Input('line_graph_dropdown',\"value\")\n",
        ")\n",
        "\n",
        "def update_output3(value):\n",
        "    return lineGraph(value)\n",
        "\n",
        "\n",
        "# #################################################\n",
        "\n",
        "@app.callback(\n",
        "    Output('myGraph',\"figure\"),\n",
        "    Input('demo_dropdown',\"value\")\n",
        ")\n",
        "\n",
        "def update_output(value):\n",
        "    return perOf_other_Diseases_withHD(value)\n",
        "\n",
        "\n",
        "\n",
        "# #################################################\n",
        "\n",
        "@app.callback(\n",
        "    Output('myGraph1',\"figure\"),\n",
        "    Input('demo_dropdown1',\"value\")\n",
        ")\n",
        "\n",
        "def update_output1(value):\n",
        "    return groupBar1(value)\n",
        "#  ##########################################################\n",
        "\n",
        "   \n",
        "\n",
        "@app.callback(\n",
        "    Output('myGraph2',\"figure\"),\n",
        "    Input('demo_dropdown2',\"value\")\n",
        ")\n",
        "def update_output2(value):\n",
        "    return barGroup2(value)\n",
        "\n",
        "\n",
        "\n"
      ]
    },
    {
      "cell_type": "markdown",
      "metadata": {
        "id": "cDw0mrZwrkVF"
      },
      "source": [
        "# Run Server"
      ]
    },
    {
      "cell_type": "code",
      "execution_count": 468,
      "metadata": {
        "colab": {
          "base_uri": "https://localhost:8080/",
          "height": 53
        },
        "id": "0CK2ZhAtXq_Y",
        "outputId": "60435479-ae2f-4ead-eb04-5739baa195b5"
      },
      "outputs": [
        {
          "output_type": "stream",
          "name": "stdout",
          "text": [
            "Dash app running on:\n"
          ]
        },
        {
          "output_type": "display_data",
          "data": {
            "text/plain": [
              "<IPython.core.display.Javascript object>"
            ],
            "application/javascript": [
              "(async (port, path, text, element) => {\n",
              "    if (!google.colab.kernel.accessAllowed) {\n",
              "      return;\n",
              "    }\n",
              "    element.appendChild(document.createTextNode(''));\n",
              "    const url = await google.colab.kernel.proxyPort(port);\n",
              "    const anchor = document.createElement('a');\n",
              "    anchor.href = new URL(path, url).toString();\n",
              "    anchor.target = '_blank';\n",
              "    anchor.setAttribute('data-href', url + path);\n",
              "    anchor.textContent = text;\n",
              "    element.appendChild(anchor);\n",
              "  })(8050, \"/\", \"http://127.0.0.1:8050/\", window.element)"
            ]
          },
          "metadata": {}
        }
      ],
      "source": [
        "# #################################################################################\n",
        "# Run App\n",
        "if __name__ == '__main__':\n",
        "    app.run_server(debug=True)\n",
        "\n",
        "\n",
        "#\n"
      ]
    },
    {
      "cell_type": "markdown",
      "source": [
        "# Side BAr"
      ],
      "metadata": {
        "id": "ULiETgv2Yq4X"
      }
    },
    {
      "cell_type": "code",
      "execution_count": 469,
      "metadata": {
        "id": "Yg76FPfZaVTi"
      },
      "outputs": [],
      "source": [
        "\n",
        "# # #################################################################################\n",
        "# #   ############################# SideBar #################################\n",
        "\n",
        "# # the style arguments for the sidebar. We use position:fixed and a fixed width\n",
        "# SIDEBAR_STYLE = {\n",
        "#     \"position\": \"fixed\",\n",
        "#     \"top\": 0,\n",
        "#     \"left\": 0,\n",
        "#     \"bottom\": 0,\n",
        "#     \"width\": \"16rem\",\n",
        "#     \"padding\": \"2rem 1rem\",\n",
        "#     \"background-color\": \"#f9f0fa\",\n",
        "# }\n",
        "\n",
        "\n",
        "# sidebar = html.Div(\n",
        "#     [\n",
        "#         html.Img(src=SIDE_IMG, height=\"160px\", width=\"160px\"),\n",
        "#         html.Hr(),\n",
        "#         dbc.Nav(\n",
        "#             [\n",
        "#                 dbc.NavLink(\"Home\", href=\"/\", active=\"exact\"),\n",
        "#                 dbc.NavLink(\"Data Analysis\", href=\"/DataAnalysis\", active=\"exact\"),\n",
        "#                 dbc.NavLink(\"Model\", href=\"/page-2\", active=\"exact\"),\n",
        "#                 dbc.NavLink(\"Dataset\", href=\"/page-3\", active=\"exact\")\n",
        "#             ],\n",
        "#             vertical=True,\n",
        "#             pills=True,\n",
        "#         ),\n",
        "#     ],\n",
        "#     style=SIDEBAR_STYLE,\n",
        "# )\n",
        "\n",
        "# # End of SideBar\n",
        "# # #################################################################################\n",
        "# #   ############################# Content #################################\n",
        "\n",
        "# # the styles for the main content position it to the right of the sidebar and\n",
        "# # add some padding.\n",
        "# CONTENT_STYLE = {\n",
        "#     \"margin-left\": \"18rem\",\n",
        "#     \"margin-right\": \"2rem\",\n",
        "#     \"padding\": \"2rem 1rem\",\n",
        "# }\n",
        "\n",
        "\n",
        "# content = html.Div(id=\"page-content\", children=[DataAnalysis_PAGE], style=CONTENT_STYLE)\n",
        "\n",
        "# # End Of Content\n"
      ]
    },
    {
      "cell_type": "code",
      "source": [
        ""
      ],
      "metadata": {
        "id": "QAFuPQYl1mmY"
      },
      "execution_count": 469,
      "outputs": []
    }
  ],
  "metadata": {
    "colab": {
      "name": "DashBoard.ipynb",
      "provenance": [],
      "mount_file_id": "10KLZY7z1pHjAVWJxQpcgHE4SvtoepYqF",
      "authorship_tag": "ABX9TyP0OKR9E1uqs9zgyJZyo62L",
      "include_colab_link": true
    },
    "kernelspec": {
      "display_name": "Python 3",
      "name": "python3"
    },
    "language_info": {
      "name": "python"
    }
  },
  "nbformat": 4,
  "nbformat_minor": 0
}